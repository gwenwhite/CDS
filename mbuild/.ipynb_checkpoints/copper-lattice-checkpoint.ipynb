{
 "cells": [
  {
   "cell_type": "code",
   "execution_count": 1,
   "id": "3ab6188c-e6e4-46cc-8da0-fe2dbb5e0cc7",
   "metadata": {},
   "outputs": [
    {
     "name": "stderr",
     "output_type": "stream",
     "text": [
      "/Users/chris/miniforge3/envs/flowermd-dev/lib/python3.11/site-packages/mdtraj/formats/__init__.py:6: DeprecationWarning: 'xdrlib' is deprecated and slated for removal in Python 3.13\n",
      "  from .xtc import XTCTrajectoryFile\n",
      "/Users/chris/miniforge3/envs/flowermd-dev/lib/python3.11/site-packages/mdtraj/geometry/order.py:25: DeprecationWarning: pkg_resources is deprecated as an API. See https://setuptools.pypa.io/en/latest/pkg_resources.html\n",
      "  from pkg_resources import parse_version\n",
      "/Users/chris/miniforge3/envs/flowermd-dev/lib/python3.11/site-packages/pkg_resources/__init__.py:2871: DeprecationWarning: Deprecated call to `pkg_resources.declare_namespace('google')`.\n",
      "Implementing implicit namespace packages (as specified in PEP 420) is preferred to `pkg_resources.declare_namespace`. See https://setuptools.pypa.io/en/latest/references/keywords.html#keyword-namespace-packages\n",
      "  declare_namespace(pkg)\n",
      "/Users/chris/miniforge3/envs/flowermd-dev/lib/python3.11/site-packages/lark/utils.py:163: DeprecationWarning: module 'sre_parse' is deprecated\n",
      "  import sre_parse\n",
      "/Users/chris/miniforge3/envs/flowermd-dev/lib/python3.11/site-packages/lark/utils.py:164: DeprecationWarning: module 'sre_constants' is deprecated\n",
      "  import sre_constants\n",
      "/Users/chris/miniforge3/envs/flowermd-dev/lib/python3.11/site-packages/mbuild/recipes/__init__.py:13: DeprecationWarning: SelectableGroups dict interface is deprecated. Use select.\n",
      "  entry_points = metadata.entry_points()[\"mbuild.plugins\"]\n"
     ]
    }
   ],
   "source": [
    "import mbuild as mb"
   ]
  },
  {
   "cell_type": "code",
   "execution_count": 22,
   "id": "81109da7-03aa-40ea-bce1-60a366d1af77",
   "metadata": {},
   "outputs": [],
   "source": [
    "class CopperLattice(mb.Compound):\n",
    "    def __init__(self, x, y, z, slab_ratio=None):\n",
    "        self.slab_ratio = slab_ratio\n",
    "        super(CopperLattice, self).__init__()\n",
    "        spacings = [0.36149, 0.36149, 0.36149]\n",
    "        angles = [90, 90, 90]\n",
    "        points = [[0, 0, 0], [0.5, 0.5, 0], [0.5, 0, 0.5], [0, 0.5, 0.5]]\n",
    "        fcc_lattice = mb.Lattice(lattice_spacing=spacings, angles=angles, lattice_points={'A' : points})\n",
    "        # define Compound that is a copper atom\n",
    "        cu = mb.Compound(name='Cu')\n",
    "        # populate lattice with compounds\n",
    "        self.add(fcc_lattice.populate(compound_dict={'A' : cu}, x=x, y=y, z=z))\n",
    "\n",
    "    @property\n",
    "    def Lx(self):\n",
    "        return self.box.Lx\n",
    "        \n",
    "    @property\n",
    "    def Ly(self):\n",
    "        return self.box.Ly\n",
    "        \n",
    "    @property\n",
    "    def Lz(self):\n",
    "        return self.box.Lz\n",
    "\n",
    "    @property\n",
    "    def surface_thickness(self):\n",
    "        pass\n",
    "    \n",
    "    def remove_region(self, x_range, y_range, z_range):\n",
    "        pass\n",
    "\n",
    "    def make_two_columns(self):\n",
    "        \"\"\"Remove 3 chunks, leaving 2 columns\"\"\"\n",
    "        # Get 1/5 of x box length\n",
    "        x_range = self.Lx / 5\n",
    "        z_range = self.Lz\n",
    "        "
   ]
  },
  {
   "cell_type": "code",
   "execution_count": 30,
   "id": "361a6f66-3afb-4cd5-bfb2-7212085c2e86",
   "metadata": {},
   "outputs": [],
   "source": [
    "lattice = CopperLattice(x=1, y=1, z=1)"
   ]
  },
  {
   "cell_type": "code",
   "execution_count": 31,
   "id": "85c9db3b-7324-43a9-a4c9-1ccd1a52e255",
   "metadata": {},
   "outputs": [
    {
     "data": {
      "text/plain": [
       "0.36149"
      ]
     },
     "execution_count": 31,
     "metadata": {},
     "output_type": "execute_result"
    }
   ],
   "source": [
    "lattice.Lx"
   ]
  },
  {
   "cell_type": "code",
   "execution_count": 32,
   "id": "5cc5ae71-4eb4-494e-a499-d90d88dea038",
   "metadata": {},
   "outputs": [
    {
     "data": {
      "text/plain": [
       "array([0.0903725, 0.0903725, 0.0903725])"
      ]
     },
     "execution_count": 32,
     "metadata": {},
     "output_type": "execute_result"
    }
   ],
   "source": [
    "lattice.center"
   ]
  },
  {
   "cell_type": "code",
   "execution_count": 33,
   "id": "7fee2f7b-1e1c-411e-8e7a-c1102b52cd5e",
   "metadata": {},
   "outputs": [
    {
     "data": {
      "application/3dmoljs_load.v0": "<div id=\"3dmolviewer_1707421383999035\"  style=\"position: relative; width: 640px; height: 480px;\">\n        <p id=\"3dmolwarning_1707421383999035\" style=\"background-color:#ffcccc;color:black\">You appear to be running in JupyterLab (or JavaScript failed to load for some other reason).  You need to install the 3dmol extension: <br>\n        <tt>jupyter labextension install jupyterlab_3dmol</tt></p>\n        </div>\n<script>\n\nvar loadScriptAsync = function(uri){\n  return new Promise((resolve, reject) => {\n    //this is to ignore the existence of requirejs amd\n    var savedexports, savedmodule;\n    if (typeof exports !== 'undefined') savedexports = exports;\n    else exports = {}\n    if (typeof module !== 'undefined') savedmodule = module;\n    else module = {}\n\n    var tag = document.createElement('script');\n    tag.src = uri;\n    tag.async = true;\n    tag.onload = () => {\n        exports = savedexports;\n        module = savedmodule;\n        resolve();\n    };\n  var firstScriptTag = document.getElementsByTagName('script')[0];\n  firstScriptTag.parentNode.insertBefore(tag, firstScriptTag);\n});\n};\n\nif(typeof $3Dmolpromise === 'undefined') {\n$3Dmolpromise = null;\n  $3Dmolpromise = loadScriptAsync('https://cdnjs.cloudflare.com/ajax/libs/3Dmol/2.0.4/3Dmol-min.js');\n}\n\nvar viewer_1707421383999035 = null;\nvar warn = document.getElementById(\"3dmolwarning_1707421383999035\");\nif(warn) {\n    warn.parentNode.removeChild(warn);\n}\n$3Dmolpromise.then(function() {\nviewer_1707421383999035 = $3Dmol.createViewer(document.getElementById(\"3dmolviewer_1707421383999035\"),{backgroundColor:\"white\"});\nviewer_1707421383999035.zoomTo();\n\tviewer_1707421383999035.addModel(\"@<TRIPOS>MOLECULE\\nRES\\n4 0 1 0 1\\nSMALL\\nNO_CHARGES\\n@<TRIPOS>CRYSIN\\n    3.6149     3.6149     3.6149    90.0000    90.0000    90.0000 1 1\\n@<TRIPOS>ATOM\\n       1 Cu           0.0000     0.0000     0.0000 Cu            1 RES     \\n       2 Cu           1.8074     1.8074     0.0000 Cu            1 RES     \\n       3 Cu           1.8074     0.0000     1.8074 Cu            1 RES     \\n       4 Cu           0.0000     1.8074     1.8074 Cu            1 RES     \\n@<TRIPOS>BOND\\n@<TRIPOS>SUBSTRUCTURE\\n       1 RES             1 RESIDUE    0 **** ROOT      0\\n\",\"mol2\");\n\tviewer_1707421383999035.setStyle({\"stick\": {\"radius\": 0.2, \"color\": \"grey\"}, \"sphere\": {\"scale\": 0.3, \"colorscheme\": {}}});\n\tviewer_1707421383999035.zoomTo();\nviewer_1707421383999035.render();\n});\n</script>",
      "text/html": [
       "<div id=\"3dmolviewer_1707421383999035\"  style=\"position: relative; width: 640px; height: 480px;\">\n",
       "        <p id=\"3dmolwarning_1707421383999035\" style=\"background-color:#ffcccc;color:black\">You appear to be running in JupyterLab (or JavaScript failed to load for some other reason).  You need to install the 3dmol extension: <br>\n",
       "        <tt>jupyter labextension install jupyterlab_3dmol</tt></p>\n",
       "        </div>\n",
       "<script>\n",
       "\n",
       "var loadScriptAsync = function(uri){\n",
       "  return new Promise((resolve, reject) => {\n",
       "    //this is to ignore the existence of requirejs amd\n",
       "    var savedexports, savedmodule;\n",
       "    if (typeof exports !== 'undefined') savedexports = exports;\n",
       "    else exports = {}\n",
       "    if (typeof module !== 'undefined') savedmodule = module;\n",
       "    else module = {}\n",
       "\n",
       "    var tag = document.createElement('script');\n",
       "    tag.src = uri;\n",
       "    tag.async = true;\n",
       "    tag.onload = () => {\n",
       "        exports = savedexports;\n",
       "        module = savedmodule;\n",
       "        resolve();\n",
       "    };\n",
       "  var firstScriptTag = document.getElementsByTagName('script')[0];\n",
       "  firstScriptTag.parentNode.insertBefore(tag, firstScriptTag);\n",
       "});\n",
       "};\n",
       "\n",
       "if(typeof $3Dmolpromise === 'undefined') {\n",
       "$3Dmolpromise = null;\n",
       "  $3Dmolpromise = loadScriptAsync('https://cdnjs.cloudflare.com/ajax/libs/3Dmol/2.0.4/3Dmol-min.js');\n",
       "}\n",
       "\n",
       "var viewer_1707421383999035 = null;\n",
       "var warn = document.getElementById(\"3dmolwarning_1707421383999035\");\n",
       "if(warn) {\n",
       "    warn.parentNode.removeChild(warn);\n",
       "}\n",
       "$3Dmolpromise.then(function() {\n",
       "viewer_1707421383999035 = $3Dmol.createViewer(document.getElementById(\"3dmolviewer_1707421383999035\"),{backgroundColor:\"white\"});\n",
       "viewer_1707421383999035.zoomTo();\n",
       "\tviewer_1707421383999035.addModel(\"@<TRIPOS>MOLECULE\\nRES\\n4 0 1 0 1\\nSMALL\\nNO_CHARGES\\n@<TRIPOS>CRYSIN\\n    3.6149     3.6149     3.6149    90.0000    90.0000    90.0000 1 1\\n@<TRIPOS>ATOM\\n       1 Cu           0.0000     0.0000     0.0000 Cu            1 RES     \\n       2 Cu           1.8074     1.8074     0.0000 Cu            1 RES     \\n       3 Cu           1.8074     0.0000     1.8074 Cu            1 RES     \\n       4 Cu           0.0000     1.8074     1.8074 Cu            1 RES     \\n@<TRIPOS>BOND\\n@<TRIPOS>SUBSTRUCTURE\\n       1 RES             1 RESIDUE    0 **** ROOT      0\\n\",\"mol2\");\n",
       "\tviewer_1707421383999035.setStyle({\"stick\": {\"radius\": 0.2, \"color\": \"grey\"}, \"sphere\": {\"scale\": 0.3, \"colorscheme\": {}}});\n",
       "\tviewer_1707421383999035.zoomTo();\n",
       "viewer_1707421383999035.render();\n",
       "});\n",
       "</script>"
      ]
     },
     "metadata": {},
     "output_type": "display_data"
    },
    {
     "data": {
      "text/plain": [
       "<py3Dmol.view at 0x1cb5d70d0>"
      ]
     },
     "execution_count": 33,
     "metadata": {},
     "output_type": "execute_result"
    }
   ],
   "source": [
    "lattice.visualize()"
   ]
  },
  {
   "cell_type": "code",
   "execution_count": null,
   "id": "feda4f44-1bee-454a-b7d2-ff4f9a56d5cb",
   "metadata": {},
   "outputs": [],
   "source": []
  }
 ],
 "metadata": {
  "kernelspec": {
   "display_name": "Python 3 (ipykernel)",
   "language": "python",
   "name": "python3"
  },
  "language_info": {
   "codemirror_mode": {
    "name": "ipython",
    "version": 3
   },
   "file_extension": ".py",
   "mimetype": "text/x-python",
   "name": "python",
   "nbconvert_exporter": "python",
   "pygments_lexer": "ipython3",
   "version": "3.11.6"
  }
 },
 "nbformat": 4,
 "nbformat_minor": 5
}
