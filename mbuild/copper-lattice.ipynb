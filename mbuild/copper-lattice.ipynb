{
 "cells": [
  {
   "cell_type": "code",
   "execution_count": 1,
   "id": "3ab6188c-e6e4-46cc-8da0-fe2dbb5e0cc7",
   "metadata": {},
   "outputs": [],
   "source": [
    "import mbuild as mb\n",
    "import warnings\n",
    "warnings.filterwarnings(\"ignore\", category=DeprecationWarning)\n",
    "\n",
    "import gsd.hoomd\n",
    "import gsd"
   ]
  },
  {
   "cell_type": "code",
   "execution_count": 2,
   "id": "2f13f0c4-d482-43b7-95ab-f957afea072e",
   "metadata": {},
   "outputs": [
    {
     "data": {
      "text/plain": [
       "'0.17.0'"
      ]
     },
     "execution_count": 2,
     "metadata": {},
     "output_type": "execute_result"
    }
   ],
   "source": [
    "mb.__version__"
   ]
  },
  {
   "cell_type": "code",
   "execution_count": null,
   "id": "71aaa1bd-62b1-446c-9134-3283cd60a299",
   "metadata": {},
   "outputs": [],
   "source": [
    "gsd.version()"
   ]
  },
  {
   "cell_type": "code",
   "execution_count": 3,
   "id": "81109da7-03aa-40ea-bce1-60a366d1af77",
   "metadata": {},
   "outputs": [],
   "source": [
    "class CopperLattice(mb.Compound):\n",
    "    def __init__(self, x, y, z, pillar_height_percent=1/3):\n",
    "        '''Make sure x and y values are divisible '''\n",
    "        self.php = pillar_height_percent\n",
    "        super(CopperLattice, self).__init__()\n",
    "        spacings = [0.36149, 0.36149, 0.36149]\n",
    "        angles = [90, 90, 90]\n",
    "        points = [[0, 0, 0], [0.5, 0.5, 0], [0.5, 0, 0.5], [0, 0.5, 0.5]]\n",
    "        fcc_lattice = mb.Lattice(lattice_spacing=spacings, angles=angles, lattice_points={'A' : points})\n",
    "        # define Compound that is a copper atom\n",
    "        cu = mb.Compound(name='Cu')\n",
    "        # populate lattice with compounds\n",
    "        self.add(fcc_lattice.populate(compound_dict={'A' : cu}, x=x, y=y, z=z))\n",
    "\n",
    "    @property\n",
    "    def Lx(self):\n",
    "        return self.box.Lx\n",
    "        \n",
    "    @property\n",
    "    def Ly(self):\n",
    "        return self.box.Ly\n",
    "        \n",
    "    @property\n",
    "    def Lz(self):\n",
    "        return self.box.Lz\n",
    "\n",
    "    @property\n",
    "    def slab_z_chunk(self):\n",
    "        return (1-self.php) * self.Lz\n",
    "\n",
    "    @property\n",
    "    def surface_thickness(self):\n",
    "        pass\n",
    "    \n",
    "    def remove_region(self, x_range, y_range, z_range):\n",
    "        remove_particles = []\n",
    "        for p in self.particles():\n",
    "            if p.pos[0] >= x_range[0] and p.pos[0] < x_range[1]:\n",
    "                if p.pos[2] >= z_range[0] and p.pos[2] < z_range[1]:\n",
    "                    remove_particles.append(p)\n",
    "        for p in remove_particles:\n",
    "            self.remove(p)\n",
    "\n",
    "    def make_two_pillars(self):\n",
    "        \"\"\"Remove 3 chunks, leaving 2 pillars\"\"\"\n",
    "        # Left-most region\n",
    "        x_range = (0, self.Lx / 5)\n",
    "        x_range2 = (2*self.Lx/5, 3*self.Lx/5)\n",
    "        x_range3 = (4*self.Lx/5, self.Lx)\n",
    "        y_range = (0, self.Ly)\n",
    "        z_range = (self.slab_z_chunk/2, self.Lz - (self.slab_z_chunk/2))\n",
    "        self.remove_region(x_range, y_range, z_range)\n",
    "        self.remove_region(x_range2, y_range, z_range)\n",
    "        self.remove_region(x_range3, y_range, z_range)\n",
    "\n",
    "    def make_four_pillars(self):\n",
    "        \"\"\"Remove 5 chunks, leaving 4 pillars\"\"\"\n",
    "        # Left-most region\n",
    "        x_range = (0, self.Lx / 9)\n",
    "        x_range2 = (2*self.Lx/9, 3*self.Lx/9)\n",
    "        x_range3 = (4*self.Lx/9, 5*self.Lx/9)\n",
    "        x_range4 = (6*self.Lx/9, 7*self.Lx/9)\n",
    "        x_range5 = (8*self.Lx/9, self.Lx)\n",
    "        y_range = (0, self.Ly)\n",
    "        z_range = (self.slab_z_chunk/2, self.Lz - (self.slab_z_chunk/2))\n",
    "        self.remove_region(x_range, y_range, z_range)\n",
    "        self.remove_region(x_range2, y_range, z_range)\n",
    "        self.remove_region(x_range3, y_range, z_range)\n",
    "        self.remove_region(x_range4, y_range, z_range)\n",
    "        self.remove_region(x_range5, y_range, z_range)\n",
    "\n",
    "    def make_three_pillars(self):\n",
    "        \"\"\"Remove 5 chunks, leaving 4 pillars\"\"\"\n",
    "        # Left-most region\n",
    "        x_range = (0, self.Lx / 9)\n",
    "        x_range2 = (2*self.Lx/9, 3*self.Lx/9)\n",
    "        x_range3 = (4*self.Lx/9, 5*self.Lx/9)\n",
    "        x_range4 = (6*self.Lx/9, 7*self.Lx/9)\n",
    "        x_range5 = (8*self.Lx/9, self.Lx)\n",
    "        y_range = (0, self.Ly)\n",
    "        z_range = (self.slab_z_chunk/2, self.Lz - (self.slab_z_chunk/2))\n",
    "        self.remove_region(x_range, y_range, z_range)\n",
    "        self.remove_region(x_range2, y_range, z_range)\n",
    "        self.remove_region(x_range3, y_range, z_range)\n",
    "        self.remove_region(x_range4, y_range, z_range)\n",
    "        self.remove_region(x_range5, y_range, z_range)"
   ]
  },
  {
   "cell_type": "code",
   "execution_count": 4,
   "id": "18416782-cf7c-4d9f-844d-26e286a71e4e",
   "metadata": {},
   "outputs": [],
   "source": [
    "lattice = CopperLattice(x=15, y=15, z=10)\n",
    "lattice.make_two_pillars()\n",
    "lattice.save('two_pillar.gsd')"
   ]
  },
  {
   "cell_type": "code",
   "execution_count": null,
   "id": "7fee2f7b-1e1c-411e-8e7a-c1102b52cd5e",
   "metadata": {},
   "outputs": [],
   "source": [
    "lattice.visualize()\n",
    "#analysis, how long for an atom to move from one slab to the other (transit time, would require writing own function)\n",
    "#does self diffusion coefficient change based on pillar addition\n",
    "#change pillar heights/tall skinny boys, how does that change the self diffusion coefficient\n",
    "#measure self diffusion coefficient with MSD\n",
    "#what pillar ratio do we stop seeing bulk properties\n",
    "#x,y,z = how many times is copper unit cell repeated / system size and pillar size\n",
    "#first runs: how hot can we go before pillars melt? use a 2 pillar system temp sweep"
   ]
  },
  {
   "cell_type": "code",
   "execution_count": null,
   "id": "feda4f44-1bee-454a-b7d2-ff4f9a56d5cb",
   "metadata": {},
   "outputs": [],
   "source": []
  }
 ],
 "metadata": {
  "kernelspec": {
   "display_name": "Python 3 (ipykernel)",
   "language": "python",
   "name": "python3"
  },
  "language_info": {
   "codemirror_mode": {
    "name": "ipython",
    "version": 3
   },
   "file_extension": ".py",
   "mimetype": "text/x-python",
   "name": "python",
   "nbconvert_exporter": "python",
   "pygments_lexer": "ipython3",
   "version": "3.9.18"
  }
 },
 "nbformat": 4,
 "nbformat_minor": 5
}
